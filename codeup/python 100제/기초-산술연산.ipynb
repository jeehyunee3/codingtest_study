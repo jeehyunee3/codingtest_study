{
 "cells": [
  {
   "cell_type": "code",
   "execution_count": 1,
   "id": "e48d4da7",
   "metadata": {},
   "outputs": [
    {
     "name": "stdout",
     "output_type": "stream",
     "text": [
      "1\n",
      "-1\n"
     ]
    }
   ],
   "source": [
    "#6032\n",
    "temp=input()\n",
    "temp=int(temp)\n",
    "print(-temp)"
   ]
  },
  {
   "cell_type": "code",
   "execution_count": 10,
   "id": "66888552",
   "metadata": {},
   "outputs": [
    {
     "name": "stdout",
     "output_type": "stream",
     "text": [
      "1\n",
      "2\n"
     ]
    }
   ],
   "source": [
    "#6033\n",
    "temp=input()\n",
    "temp=ord(temp)#문자를 유니코드로 변경\n",
    "temp=chr(temp+1)#유니코드+1을 문자로 변경\n",
    "print(temp)"
   ]
  },
  {
   "cell_type": "code",
   "execution_count": 16,
   "id": "223c3f44",
   "metadata": {},
   "outputs": [
    {
     "name": "stdout",
     "output_type": "stream",
     "text": [
      "123 -123\n",
      "246\n"
     ]
    }
   ],
   "source": [
    "#6034\n",
    "temp=input()\n",
    "arr=temp.split(\" \")\n",
    "print(int(arr[0])-int(arr[1]))"
   ]
  },
  {
   "cell_type": "code",
   "execution_count": 17,
   "id": "d4a2d25e",
   "metadata": {},
   "outputs": [
    {
     "name": "stdout",
     "output_type": "stream",
     "text": [
      "0.5 2.0\n",
      "1.0\n"
     ]
    }
   ],
   "source": [
    "#6035\n",
    "temp=input()\n",
    "arr=temp.split(\" \")\n",
    "print(float(arr[0])*float(arr[1]))"
   ]
  },
  {
   "cell_type": "code",
   "execution_count": 22,
   "id": "537ec969",
   "metadata": {},
   "outputs": [
    {
     "name": "stdout",
     "output_type": "stream",
     "text": [
      "love 3\n",
      "lovelovelove\n"
     ]
    }
   ],
   "source": [
    "#6036\n",
    "temp=input()\n",
    "word, num=temp.split(\" \")\n",
    "print(word*int(num))"
   ]
  },
  {
   "cell_type": "code",
   "execution_count": 23,
   "id": "3ae6d536",
   "metadata": {},
   "outputs": [
    {
     "name": "stdout",
     "output_type": "stream",
     "text": [
      "3\n",
      "i love cd\n",
      "i love cdi love cdi love cd\n"
     ]
    }
   ],
   "source": [
    "#6037\n",
    "num=input()\n",
    "word=input()\n",
    "print(word*int(num))"
   ]
  },
  {
   "cell_type": "code",
   "execution_count": 24,
   "id": "ab6efe7a",
   "metadata": {},
   "outputs": [
    {
     "name": "stdout",
     "output_type": "stream",
     "text": [
      "2 10\n",
      "1024\n"
     ]
    }
   ],
   "source": [
    "#6038\n",
    "temp=input()\n",
    "arr=temp.split(\" \")\n",
    "print(int(arr[0])**int(arr[1]))"
   ]
  },
  {
   "cell_type": "code",
   "execution_count": 25,
   "id": "76dc8f94",
   "metadata": {},
   "outputs": [
    {
     "name": "stdout",
     "output_type": "stream",
     "text": [
      "4.0 2.0\n",
      "16.0\n"
     ]
    }
   ],
   "source": [
    "#6039\n",
    "temp=input()\n",
    "arr=temp.split(\" \")\n",
    "print(float(arr[0])**float(arr[1]))"
   ]
  },
  {
   "cell_type": "code",
   "execution_count": 27,
   "id": "0c5b41d7",
   "metadata": {},
   "outputs": [
    {
     "name": "stdout",
     "output_type": "stream",
     "text": [
      "10 3\n",
      "3\n"
     ]
    }
   ],
   "source": [
    "#6040\n",
    "\"\"\"\n",
    "// : 몫을 계산하는 연산자\n",
    "\"\"\"\n",
    "temp=input()\n",
    "arr=temp.split(\" \")\n",
    "print(int(arr[0])//int(arr[1]))"
   ]
  },
  {
   "cell_type": "code",
   "execution_count": 28,
   "id": "e20eae7d",
   "metadata": {},
   "outputs": [
    {
     "name": "stdout",
     "output_type": "stream",
     "text": [
      "10 3\n",
      "1\n"
     ]
    }
   ],
   "source": [
    "#6041\n",
    "temp=input()\n",
    "arr=temp.split(\" \")\n",
    "print(int(arr[0])%int(arr[1]))"
   ]
  },
  {
   "cell_type": "code",
   "execution_count": 35,
   "id": "ac187e41",
   "metadata": {},
   "outputs": [
    {
     "name": "stdout",
     "output_type": "stream",
     "text": [
      "10.0 3.0\n",
      "3.333\n"
     ]
    }
   ],
   "source": [
    "#6043\n",
    "\"\"\"\n",
    "''.format(변수)\n",
    "\"\"\"\n",
    "temp=input()\n",
    "arr=temp.split(\" \")\n",
    "result=float(arr[0])/float(arr[1])\n",
    "print( '{:.3f}'.format(result))"
   ]
  },
  {
   "cell_type": "code",
   "execution_count": 38,
   "id": "5540b11b",
   "metadata": {
    "scrolled": true
   },
   "outputs": [
    {
     "name": "stdout",
     "output_type": "stream",
     "text": [
      "10 3\n",
      "13\n",
      "7\n",
      "30\n",
      "3\n",
      "1\n",
      "3.33\n"
     ]
    }
   ],
   "source": [
    "#6044\n",
    "temp=input()\n",
    "num1,num2=temp.split(\" \")\n",
    "num1=int(num1)\n",
    "num2=int(num2)\n",
    "print(num1+num2)\n",
    "print(num1-num2)\n",
    "print(num1*num2)\n",
    "print(num1//num2)\n",
    "print(num1%num2)\n",
    "print('{:.2f}'.format(num1/num2))"
   ]
  },
  {
   "cell_type": "code",
   "execution_count": 43,
   "id": "70c51348",
   "metadata": {},
   "outputs": [
    {
     "name": "stdout",
     "output_type": "stream",
     "text": [
      "1 2 3\n",
      "6\n",
      "2.00\n"
     ]
    }
   ],
   "source": [
    "#6045\n",
    "temp=input()\n",
    "num1,num2,num3=temp.split(\" \")\n",
    "num1=int(num1)\n",
    "num2=int(num2)\n",
    "num3=int(num3)\n",
    "print(num1+num2+num3)\n",
    "print('{:.2f}'.format((num1+num2+num3)/3))"
   ]
  },
  {
   "cell_type": "code",
   "execution_count": null,
   "id": "615dc752",
   "metadata": {},
   "outputs": [],
   "source": []
  }
 ],
 "metadata": {
  "kernelspec": {
   "display_name": "Python 3 (ipykernel)",
   "language": "python",
   "name": "python3"
  },
  "language_info": {
   "codemirror_mode": {
    "name": "ipython",
    "version": 3
   },
   "file_extension": ".py",
   "mimetype": "text/x-python",
   "name": "python",
   "nbconvert_exporter": "python",
   "pygments_lexer": "ipython3",
   "version": "3.8.11"
  }
 },
 "nbformat": 4,
 "nbformat_minor": 5
}

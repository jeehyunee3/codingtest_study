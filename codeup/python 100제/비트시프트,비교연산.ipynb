{
 "cells": [
  {
   "cell_type": "code",
   "execution_count": 1,
   "id": "c3064195",
   "metadata": {},
   "outputs": [
    {
     "name": "stdout",
     "output_type": "stream",
     "text": [
      "1024\n",
      "2048\n"
     ]
    }
   ],
   "source": [
    "#6046\n",
    "\"\"\"\n",
    "비트시프트연산자 << : 값이 2배\n",
    "비트시프트연산자 >> : 값이 0.5배\n",
    "\"\"\"\n",
    "temp=int(input())\n",
    "temp=temp<<1\n",
    "print(temp)"
   ]
  },
  {
   "cell_type": "code",
   "execution_count": 5,
   "id": "125c87ac",
   "metadata": {},
   "outputs": [
    {
     "name": "stdout",
     "output_type": "stream",
     "text": [
      "1 3\n",
      "8\n"
     ]
    }
   ],
   "source": [
    "#6047/비트시프트 사용\n",
    "temp=input()\n",
    "a,b=temp.split(\" \")\n",
    "a=int(a)\n",
    "b=int(b)\n",
    "temp=a<<b\n",
    "print(temp)"
   ]
  },
  {
   "cell_type": "code",
   "execution_count": 6,
   "id": "4a77920e",
   "metadata": {},
   "outputs": [
    {
     "name": "stdout",
     "output_type": "stream",
     "text": [
      "1 3\n",
      "8\n"
     ]
    }
   ],
   "source": [
    "#6047/pow() 사용\n",
    "temp=input()\n",
    "a,b=temp.split(\" \")\n",
    "a=int(a)\n",
    "b=int(b)\n",
    "temp=a*pow(2,b)\n",
    "print(temp)"
   ]
  },
  {
   "cell_type": "code",
   "execution_count": 7,
   "id": "7c5fe256",
   "metadata": {},
   "outputs": [
    {
     "name": "stdout",
     "output_type": "stream",
     "text": [
      "1 9\n",
      "True\n"
     ]
    }
   ],
   "source": [
    "#6048\n",
    "temp=input()\n",
    "a,b=temp.split(\" \")\n",
    "a=int(a)\n",
    "b=int(b)\n",
    "print(a<b)"
   ]
  },
  {
   "cell_type": "code",
   "execution_count": 8,
   "id": "a3600a71",
   "metadata": {},
   "outputs": [
    {
     "name": "stdout",
     "output_type": "stream",
     "text": [
      "1 2\n",
      "False\n"
     ]
    }
   ],
   "source": [
    "#6049\n",
    "temp=input()\n",
    "a,b=temp.split(\" \")\n",
    "a=int(a)\n",
    "b=int(b)\n",
    "print(a==b)"
   ]
  },
  {
   "cell_type": "code",
   "execution_count": 9,
   "id": "4fd1ca44",
   "metadata": {},
   "outputs": [
    {
     "name": "stdout",
     "output_type": "stream",
     "text": [
      "0 -1\n",
      "False\n"
     ]
    }
   ],
   "source": [
    "#6050\n",
    "temp=input()\n",
    "a,b=temp.split(\" \")\n",
    "a=int(a)\n",
    "b=int(b)\n",
    "print(a<=b)"
   ]
  },
  {
   "cell_type": "code",
   "execution_count": 10,
   "id": "a00b1210",
   "metadata": {},
   "outputs": [
    {
     "name": "stdout",
     "output_type": "stream",
     "text": [
      "1 5\n",
      "True\n"
     ]
    }
   ],
   "source": [
    "#6051\n",
    "temp=input()\n",
    "a,b=temp.split(\" \")\n",
    "a=int(a)\n",
    "b=int(b)\n",
    "print(a!=b)"
   ]
  },
  {
   "cell_type": "code",
   "execution_count": null,
   "id": "9dd98089",
   "metadata": {},
   "outputs": [],
   "source": []
  }
 ],
 "metadata": {
  "kernelspec": {
   "display_name": "Python 3 (ipykernel)",
   "language": "python",
   "name": "python3"
  },
  "language_info": {
   "codemirror_mode": {
    "name": "ipython",
    "version": 3
   },
   "file_extension": ".py",
   "mimetype": "text/x-python",
   "name": "python",
   "nbconvert_exporter": "python",
   "pygments_lexer": "ipython3",
   "version": "3.8.11"
  }
 },
 "nbformat": 4,
 "nbformat_minor": 5
}

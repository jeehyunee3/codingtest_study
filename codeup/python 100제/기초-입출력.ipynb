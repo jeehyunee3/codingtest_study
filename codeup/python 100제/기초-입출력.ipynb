{
 "cells": [
  {
   "cell_type": "code",
   "execution_count": 1,
   "id": "c7ca8e63",
   "metadata": {},
   "outputs": [
    {
     "name": "stdout",
     "output_type": "stream",
     "text": [
      "a\n",
      "a\n"
     ]
    }
   ],
   "source": [
    "#6009\n",
    "temp=input()\n",
    "print(temp)"
   ]
  },
  {
   "cell_type": "code",
   "execution_count": 2,
   "id": "2497c99e",
   "metadata": {},
   "outputs": [
    {
     "name": "stdout",
     "output_type": "stream",
     "text": [
      "5\n",
      "5\n"
     ]
    }
   ],
   "source": [
    "#6010\n",
    "temp=input()\n",
    "print(int(temp))"
   ]
  },
  {
   "cell_type": "code",
   "execution_count": 4,
   "id": "7d16bc0e",
   "metadata": {},
   "outputs": [
    {
     "name": "stdout",
     "output_type": "stream",
     "text": [
      "5\n",
      "5.0\n"
     ]
    }
   ],
   "source": [
    "#6011\n",
    "temp=input()\n",
    "print(float(temp))"
   ]
  },
  {
   "cell_type": "code",
   "execution_count": 7,
   "id": "11a87237",
   "metadata": {},
   "outputs": [
    {
     "name": "stdout",
     "output_type": "stream",
     "text": [
      "5\n",
      "8\n",
      "5\n",
      "8\n"
     ]
    }
   ],
   "source": [
    "#6012\n",
    "temp1=input()\n",
    "temp2=input()\n",
    "print(temp1)\n",
    "print(temp2)"
   ]
  },
  {
   "cell_type": "code",
   "execution_count": 8,
   "id": "ab516b1f",
   "metadata": {},
   "outputs": [
    {
     "name": "stdout",
     "output_type": "stream",
     "text": [
      "a\n",
      "b\n",
      "b\n",
      "a\n"
     ]
    }
   ],
   "source": [
    "#6013\n",
    "temp1=input()\n",
    "temp2=input()\n",
    "print(temp2)\n",
    "print(temp1)"
   ]
  },
  {
   "cell_type": "code",
   "execution_count": 10,
   "id": "0eacabca",
   "metadata": {},
   "outputs": [
    {
     "name": "stdout",
     "output_type": "stream",
     "text": [
      "5\n",
      "5\n",
      "5\n",
      "5\n"
     ]
    }
   ],
   "source": [
    "#6014\n",
    "temp=input()\n",
    "for i in range(3):\n",
    "    print(temp)"
   ]
  },
  {
   "cell_type": "code",
   "execution_count": 13,
   "id": "3f2fdcfb",
   "metadata": {},
   "outputs": [
    {
     "name": "stdout",
     "output_type": "stream",
     "text": [
      "1 2\n",
      "1\n",
      "2\n"
     ]
    }
   ],
   "source": [
    "#6015\n",
    "temp=input()\n",
    "arr=temp.split()\n",
    "for i in range(len(arr)):\n",
    "    print(arr[i])"
   ]
  },
  {
   "cell_type": "code",
   "execution_count": 17,
   "id": "1de39487",
   "metadata": {},
   "outputs": [
    {
     "name": "stdout",
     "output_type": "stream",
     "text": [
      "a b \n",
      "b a "
     ]
    }
   ],
   "source": [
    "#6016\n",
    "\"\"\"\n",
    "range(시작, 끝, 증가폭)\n",
    "역순으로 진행하고자 할때는 증가폭을 음수로 설정.\n",
    "\"\"\"\n",
    "temp=input()\n",
    "arr=temp.split()\n",
    "for i in range(len(arr)-1,-1,-1):\n",
    "    print(arr[i],end=\" \")"
   ]
  },
  {
   "cell_type": "code",
   "execution_count": 18,
   "id": "50ef5485",
   "metadata": {},
   "outputs": [
    {
     "name": "stdout",
     "output_type": "stream",
     "text": [
      "computer science\n",
      "computer science computer science computer science "
     ]
    }
   ],
   "source": [
    "#6017\n",
    "temp=input()\n",
    "for i in range(3):\n",
    "    print(temp,end=\" \")"
   ]
  },
  {
   "cell_type": "code",
   "execution_count": 20,
   "id": "3a38673d",
   "metadata": {},
   "outputs": [
    {
     "name": "stdout",
     "output_type": "stream",
     "text": [
      "12:30\n",
      "12:30\n"
     ]
    }
   ],
   "source": [
    "#6018\n",
    "\"\"\"\n",
    "print()의 sep는 변수사이에 표시되는 듯,,\n",
    "\"\"\"\n",
    "temp=input()\n",
    "arr=temp.split(\":\")\n",
    "print(arr[0],arr[1],sep=\":\")"
   ]
  },
  {
   "cell_type": "code",
   "execution_count": 23,
   "id": "80b792b6",
   "metadata": {},
   "outputs": [
    {
     "name": "stdout",
     "output_type": "stream",
     "text": [
      "2020.3.4\n",
      "4-3-2020\n"
     ]
    }
   ],
   "source": [
    "#6019\n",
    "temp=input()\n",
    "arr=temp.split(\".\")\n",
    "print(arr[2],arr[1],arr[0],sep=\"-\")"
   ]
  },
  {
   "cell_type": "code",
   "execution_count": 26,
   "id": "0dddfc22",
   "metadata": {},
   "outputs": [
    {
     "name": "stdout",
     "output_type": "stream",
     "text": [
      "000907-1121112\n",
      "0009071121112\n"
     ]
    }
   ],
   "source": [
    "#6020\n",
    "temp=input()\n",
    "arr=temp.split(\"-\")\n",
    "print(arr[0],arr[1],sep=\"\")"
   ]
  },
  {
   "cell_type": "code",
   "execution_count": 28,
   "id": "e6da43e5",
   "metadata": {},
   "outputs": [
    {
     "name": "stdout",
     "output_type": "stream",
     "text": [
      "12345\n",
      "1\n",
      "2\n",
      "3\n",
      "4\n",
      "5\n"
     ]
    }
   ],
   "source": [
    "#6021\n",
    "temp=input()\n",
    "for i in range(len(temp)):\n",
    "    print(temp[i])"
   ]
  },
  {
   "cell_type": "code",
   "execution_count": 30,
   "id": "b0399367",
   "metadata": {},
   "outputs": [
    {
     "name": "stdout",
     "output_type": "stream",
     "text": [
      "200304\n",
      "20 03 04 "
     ]
    }
   ],
   "source": [
    "#6022\n",
    "temp=input()\n",
    "for i in range(0,len(temp),2):\n",
    "    print(temp[i:i+2],end=\" \")"
   ]
  },
  {
   "cell_type": "code",
   "execution_count": 1,
   "id": "998bfc91",
   "metadata": {},
   "outputs": [
    {
     "name": "stdout",
     "output_type": "stream",
     "text": [
      "17:23:57\n",
      "23\n"
     ]
    }
   ],
   "source": [
    "#6023\n",
    "temp=input()\n",
    "arr=temp.split(':')\n",
    "print(arr[1])"
   ]
  },
  {
   "cell_type": "code",
   "execution_count": 2,
   "id": "5436f0eb",
   "metadata": {},
   "outputs": [
    {
     "name": "stdout",
     "output_type": "stream",
     "text": [
      "hello world\n",
      "helloworld\n"
     ]
    }
   ],
   "source": [
    "#6024\n",
    "temp=input()\n",
    "temp2=temp.replace(' ','')\n",
    "print(temp2)"
   ]
  },
  {
   "cell_type": "code",
   "execution_count": null,
   "id": "8265ffcd",
   "metadata": {},
   "outputs": [],
   "source": []
  }
 ],
 "metadata": {
  "kernelspec": {
   "display_name": "Python 3 (ipykernel)",
   "language": "python",
   "name": "python3"
  },
  "language_info": {
   "codemirror_mode": {
    "name": "ipython",
    "version": 3
   },
   "file_extension": ".py",
   "mimetype": "text/x-python",
   "name": "python",
   "nbconvert_exporter": "python",
   "pygments_lexer": "ipython3",
   "version": "3.8.11"
  }
 },
 "nbformat": 4,
 "nbformat_minor": 5
}

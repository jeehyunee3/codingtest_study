{
 "cells": [
  {
   "cell_type": "code",
   "execution_count": 4,
   "id": "0a017734",
   "metadata": {},
   "outputs": [
    {
     "name": "stdout",
     "output_type": "stream",
     "text": [
      "2\n",
      "True\n"
     ]
    }
   ],
   "source": [
    "#6052\n",
    "\"\"\"\n",
    "bool()사용 시, 입력된 식이나 값을 평가해 Ture/False를 출력함.\n",
    "\"\"\"\n",
    "temp=int(input())\n",
    "print(bool(temp))"
   ]
  },
  {
   "cell_type": "code",
   "execution_count": 7,
   "id": "bf62cacb",
   "metadata": {},
   "outputs": [
    {
     "name": "stdout",
     "output_type": "stream",
     "text": [
      "0\n",
      "True\n"
     ]
    }
   ],
   "source": [
    "#6053\n",
    "temp=int(input())\n",
    "temp=bool(temp)\n",
    "print(not temp)"
   ]
  },
  {
   "cell_type": "code",
   "execution_count": 8,
   "id": "c37e0806",
   "metadata": {},
   "outputs": [
    {
     "name": "stdout",
     "output_type": "stream",
     "text": [
      "1 1\n",
      "True\n"
     ]
    }
   ],
   "source": [
    "#6054\n",
    "temp=input()\n",
    "a,b=temp.split(\" \")\n",
    "a=bool(int(a))\n",
    "b=bool(int(b))\n",
    "print(a and b)"
   ]
  },
  {
   "cell_type": "code",
   "execution_count": 9,
   "id": "a5acc10e",
   "metadata": {},
   "outputs": [
    {
     "name": "stdout",
     "output_type": "stream",
     "text": [
      "1 0\n",
      "True\n"
     ]
    }
   ],
   "source": [
    "#6055\n",
    "temp=input()\n",
    "a,b=temp.split(\" \")\n",
    "a=bool(int(a))\n",
    "b=bool(int(b))\n",
    "print(a or b)"
   ]
  },
  {
   "cell_type": "code",
   "execution_count": 10,
   "id": "3c1e6f72",
   "metadata": {},
   "outputs": [
    {
     "name": "stdout",
     "output_type": "stream",
     "text": [
      "1 1\n",
      "False\n"
     ]
    }
   ],
   "source": [
    "#6056\n",
    "temp=input()\n",
    "a,b=temp.split(\" \")\n",
    "a=bool(int(a))\n",
    "b=bool(int(b))\n",
    "print((not a and b)or(a and not b))\n",
    "\"\"\"\n",
    "-false, ture\n",
    "-true, false\n",
    ": 두 개의 값이 다를 때\n",
    "\"\"\""
   ]
  },
  {
   "cell_type": "code",
   "execution_count": 12,
   "id": "fbce9b20",
   "metadata": {},
   "outputs": [
    {
     "name": "stdout",
     "output_type": "stream",
     "text": [
      "0 0\n",
      "True\n"
     ]
    }
   ],
   "source": [
    "#6057\n",
    "temp=input()\n",
    "a,b=temp.split(\" \")\n",
    "a=bool(int(a))\n",
    "b=bool(int(b))\n",
    "print((not a and not b)or(a and b))\n",
    "\"\"\"\n",
    "-true, ture\n",
    "-flase, flase\n",
    ": 두 개의 값이 같을 때\n",
    "\"\"\""
   ]
  },
  {
   "cell_type": "code",
   "execution_count": 14,
   "id": "eb21f37a",
   "metadata": {
    "scrolled": true
   },
   "outputs": [
    {
     "name": "stdout",
     "output_type": "stream",
     "text": [
      "1 1\n",
      "False\n"
     ]
    }
   ],
   "source": [
    "#6058\n",
    "temp=input()\n",
    "a,b=temp.split(\" \")\n",
    "a=bool(int(a))\n",
    "b=bool(int(b))\n",
    "print(not a and not b)"
   ]
  },
  {
   "cell_type": "code",
   "execution_count": 2,
   "id": "8e2ddc99",
   "metadata": {},
   "outputs": [
    {
     "name": "stdout",
     "output_type": "stream",
     "text": [
      "2\n",
      "-3\n"
     ]
    }
   ],
   "source": [
    "#6059\n",
    "\"\"\"\n",
    "비트단위 연산자\n",
    "not : ~\n",
    "and : &\n",
    "or : |\n",
    "xor : ^\n",
    "left shift : <<\n",
    "right shift : >>\n",
    "\"\"\"\n",
    "temp=int(input())\n",
    "print(~temp)"
   ]
  },
  {
   "cell_type": "code",
   "execution_count": 3,
   "id": "ae855a10",
   "metadata": {},
   "outputs": [
    {
     "name": "stdout",
     "output_type": "stream",
     "text": [
      "3 5\n",
      "1\n"
     ]
    }
   ],
   "source": [
    "#6060\n",
    "temp=input()\n",
    "a,b=temp.split(\" \")\n",
    "a=int(a)\n",
    "b=int(b)\n",
    "print(a&b)"
   ]
  },
  {
   "cell_type": "code",
   "execution_count": 4,
   "id": "386f5ce2",
   "metadata": {},
   "outputs": [
    {
     "name": "stdout",
     "output_type": "stream",
     "text": [
      "3 5\n",
      "7\n"
     ]
    }
   ],
   "source": [
    "#6061\n",
    "temp=input()\n",
    "a,b=temp.split(\" \")\n",
    "a=int(a)\n",
    "b=int(b)\n",
    "print(a|b)"
   ]
  },
  {
   "cell_type": "code",
   "execution_count": 5,
   "id": "c654309b",
   "metadata": {},
   "outputs": [
    {
     "name": "stdout",
     "output_type": "stream",
     "text": [
      "3 5\n",
      "6\n"
     ]
    }
   ],
   "source": [
    "#6062\n",
    "temp=input()\n",
    "a,b=temp.split(\" \")\n",
    "a=int(a)\n",
    "b=int(b)\n",
    "print(a^b)"
   ]
  },
  {
   "cell_type": "code",
   "execution_count": 8,
   "id": "edbba5f9",
   "metadata": {},
   "outputs": [
    {
     "name": "stdout",
     "output_type": "stream",
     "text": [
      "3 5\n",
      "5\n"
     ]
    }
   ],
   "source": [
    "#6063\n",
    "\"\"\"\n",
    "3항 연산자 : ture조건 if문 else false조건\n",
    "\"\"\"\n",
    "temp=input()\n",
    "a,b=temp.split(\" \")\n",
    "a=int(a)\n",
    "b=int(b)\n",
    "print(a if(a>=b) else b)"
   ]
  },
  {
   "cell_type": "code",
   "execution_count": 9,
   "id": "6899e335",
   "metadata": {},
   "outputs": [
    {
     "name": "stdout",
     "output_type": "stream",
     "text": [
      "1 2 3\n",
      "1\n"
     ]
    }
   ],
   "source": [
    "#6064\n",
    "\"\"\"\n",
    "a, b, c\n",
    "1. a가 b,c보다 작을 때 -> a\n",
    "2. a가 b,c보다 클 때 -> b가 c보다 작을 때 -> b\n",
    "                     -> b가 c보다 클 때 -> c\n",
    "\"\"\"\n",
    "temp=input()\n",
    "a,b,c=temp.split(\" \")\n",
    "a=int(a)\n",
    "b=int(b)\n",
    "c=int(c)\n",
    "print(a if(a<=b and a<=c) else (b if b<=c else c))"
   ]
  },
  {
   "cell_type": "code",
   "execution_count": null,
   "id": "647e986c",
   "metadata": {},
   "outputs": [],
   "source": []
  }
 ],
 "metadata": {
  "kernelspec": {
   "display_name": "Python 3 (ipykernel)",
   "language": "python",
   "name": "python3"
  },
  "language_info": {
   "codemirror_mode": {
    "name": "ipython",
    "version": 3
   },
   "file_extension": ".py",
   "mimetype": "text/x-python",
   "name": "python",
   "nbconvert_exporter": "python",
   "pygments_lexer": "ipython3",
   "version": "3.8.11"
  }
 },
 "nbformat": 4,
 "nbformat_minor": 5
}

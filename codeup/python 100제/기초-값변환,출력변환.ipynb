{
 "cells": [
  {
   "cell_type": "code",
   "execution_count": 3,
   "id": "3573c249",
   "metadata": {},
   "outputs": [
    {
     "name": "stdout",
     "output_type": "stream",
     "text": [
      "123 -123\n",
      "0\n"
     ]
    }
   ],
   "source": [
    "#6025\n",
    "temp=input()\n",
    "arr=temp.split(\" \")\n",
    "add=int(arr[0])+int(arr[1])\n",
    "print(add)"
   ]
  },
  {
   "cell_type": "code",
   "execution_count": 6,
   "id": "7343602d",
   "metadata": {},
   "outputs": [
    {
     "name": "stdout",
     "output_type": "stream",
     "text": [
      "0.1\n",
      "0.9\n",
      "1.0\n"
     ]
    }
   ],
   "source": [
    "#6026 > 문제 잘못봐서 틀림;;;\n",
    "temp1=input()\n",
    "temp2=input()\n",
    "add=float(temp1)+float(temp2)\n",
    "print(float(add))"
   ]
  },
  {
   "cell_type": "code",
   "execution_count": 8,
   "id": "df6c28fa",
   "metadata": {},
   "outputs": [
    {
     "name": "stdout",
     "output_type": "stream",
     "text": [
      "255\n",
      "ff\n"
     ]
    }
   ],
   "source": [
    "#6027\n",
    "\"\"\"\n",
    "소문자 형태의 16진수 : print(\"%x\"%temp)\n",
    "8진수 : print(\"%o\"%temp)\n",
    "\"\"\"\n",
    "temp=input()\n",
    "temp=int(temp)\n",
    "print(\"%x\"%temp)"
   ]
  },
  {
   "cell_type": "code",
   "execution_count": 10,
   "id": "6e0e32f1",
   "metadata": {},
   "outputs": [
    {
     "name": "stdout",
     "output_type": "stream",
     "text": [
      "255\n",
      "FF\n"
     ]
    }
   ],
   "source": [
    "#6028\n",
    "\"\"\"\n",
    "대문자 형태의 16진수 : print(\"%X\"%temp)\n",
    "8진수 : print(\"%o\"%temp)\n",
    "\"\"\"\n",
    "temp=input()\n",
    "temp=int(temp)\n",
    "print(\"%X\"%temp)"
   ]
  },
  {
   "cell_type": "code",
   "execution_count": 11,
   "id": "fe1a59f7",
   "metadata": {},
   "outputs": [
    {
     "name": "stdout",
     "output_type": "stream",
     "text": [
      "f\n",
      "17\n"
     ]
    }
   ],
   "source": [
    "#6029\n",
    "\"\"\"\n",
    "16진수 정수 : int(temp,16)\n",
    "8진수 정수 : int(temp,8)\n",
    "\"\"\"\n",
    "temp=input()\n",
    "temp=int(temp,16)\n",
    "print(\"%o\"%temp)"
   ]
  },
  {
   "cell_type": "code",
   "execution_count": 12,
   "id": "7c3fc264",
   "metadata": {},
   "outputs": [
    {
     "name": "stdout",
     "output_type": "stream",
     "text": [
      "A\n",
      "65\n"
     ]
    }
   ],
   "source": [
    "#6030\n",
    "\"\"\"\n",
    "문자를 유니코드 값으로 변환 : ord(temp)\n",
    "\"\"\"\n",
    "temp=input()\n",
    "temp=ord(temp)\n",
    "print(temp)"
   ]
  },
  {
   "cell_type": "code",
   "execution_count": 14,
   "id": "7ebb7ca0",
   "metadata": {},
   "outputs": [
    {
     "name": "stdout",
     "output_type": "stream",
     "text": [
      "65\n",
      "A\n"
     ]
    }
   ],
   "source": [
    "#6031\n",
    "\"\"\"\n",
    "유니코드 값을 문자로 변환 : chr(temp)\n",
    "\"\"\"\n",
    "temp=input()\n",
    "temp=chr(int(temp))\n",
    "print(temp)"
   ]
  },
  {
   "cell_type": "code",
   "execution_count": 18,
   "id": "351a66e5",
   "metadata": {},
   "outputs": [
    {
     "name": "stdout",
     "output_type": "stream",
     "text": [
      "3.141592\n",
      "3.14\n"
     ]
    }
   ],
   "source": [
    "#6042\n",
    "temp=input()\n",
    "temp=float(temp)\n",
    "print(format(temp,\".2f\"))"
   ]
  },
  {
   "cell_type": "code",
   "execution_count": null,
   "id": "0eef06c7",
   "metadata": {},
   "outputs": [],
   "source": []
  }
 ],
 "metadata": {
  "kernelspec": {
   "display_name": "Python 3 (ipykernel)",
   "language": "python",
   "name": "python3"
  },
  "language_info": {
   "codemirror_mode": {
    "name": "ipython",
    "version": 3
   },
   "file_extension": ".py",
   "mimetype": "text/x-python",
   "name": "python",
   "nbconvert_exporter": "python",
   "pygments_lexer": "ipython3",
   "version": "3.8.11"
  }
 },
 "nbformat": 4,
 "nbformat_minor": 5
}
